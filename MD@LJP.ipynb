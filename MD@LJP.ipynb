{
 "cells": [
  {
   "cell_type": "code",
   "execution_count": 941,
   "id": "27637ba4",
   "metadata": {},
   "outputs": [],
   "source": [
    "#import modules\n",
    "import numpy as np\n",
    "import matplotlib.pyplot as plt\n",
    "import math"
   ]
  },
  {
   "cell_type": "code",
   "execution_count": 942,
   "id": "d5c99043",
   "metadata": {},
   "outputs": [],
   "source": [
    "def run_md(N_atoms, r, T, m, size, num_steps, dump, dt):\n",
    "    \"\"\"\n",
    "    MD program using velocity verlet algorithm\n",
    "    N_atoms = number_of_atoms\n",
    "    f = force_of_particles\n",
    "    r = distance_between_particles\n",
    "    T = Boltzmann_temperature\n",
    "    m = mass_of_particle\n",
    "    size = size_of_the_box\n",
    "    num_steps = number_of_steps\n",
    "    dump = frequency_in_steps\n",
    "    dt = time_step\n",
    "    \"\"\"\n",
    "    \n",
    "    # initialize positions\n",
    "    positions = initialize_positions(N_atoms, size)\n",
    "    \n",
    "    # initialize velocities\n",
    "    velocities = initialize_velocities(m, kB, T)\n",
    "    \n",
    "    # Main MD loop\n",
    "     # open trajectory file\n",
    "    traj_file = open(\"traj_MD.xyz\", 'w')\n",
    "    for steps in range(num_steps):\n",
    "    \n",
    "        # Propagate Positions\n",
    "        update_positions(positions, velocities, f, dt, size)\n",
    "        \n",
    "        # Propagate Velocities\n",
    "        update_velocities(velocities, f, dt)\n",
    "        \n",
    "        if (step%dump==0):\n",
    "            write_trajectory_frame(positions, traj_file, step)\n",
    "    \n",
    "        # close trajectory file\n",
    "        traj_file.close()\n",
    "        return traj_file"
   ]
  },
  {
   "cell_type": "code",
   "execution_count": 943,
   "id": "e878d31c",
   "metadata": {},
   "outputs": [],
   "source": [
    "#################Sub-Routines#################\n",
    "\n",
    "# initialize positions\n",
    "def initialize_positions(N_atoms, size):\n",
    "    \n",
    "    return np.random.rand(N_atoms, 3) * size"
   ]
  },
  {
   "cell_type": "code",
   "execution_count": 944,
   "id": "5ea94e64",
   "metadata": {},
   "outputs": [
    {
     "name": "stdout",
     "output_type": "stream",
     "text": [
      "[[4.58603962 7.24167637 3.99025322]\n",
      " [9.04044393 6.9002502  6.99622054]\n",
      " [3.27720402 7.56778643 6.36061055]]\n"
     ]
    }
   ],
   "source": [
    "positions = initialize_positions(3, 10)\n",
    "print(positions)"
   ]
  },
  {
   "cell_type": "code",
   "execution_count": 945,
   "id": "348469af",
   "metadata": {},
   "outputs": [],
   "source": [
    "def compute_forces(positions, f, size):\n",
    "    \"\"\"Compute forces\"\"\"\n",
    "    N = 3 \n",
    "    size = 10\n",
    "    for i in range(N):\n",
    "        for j in range(i + 1, N):\n",
    "            r_ij = positions[i] - positions[j]\n",
    "            r = np.linalg.norm(r_ij)\n",
    "            f = 24 * (2 * (r_ij / r)**12 - (r_ij / r)**6) / r\n",
    "    return f, r_ij, r"
   ]
  },
  {
   "cell_type": "code",
   "execution_count": null,
   "id": "ba77fabe",
   "metadata": {},
   "outputs": [],
   "source": []
  },
  {
   "cell_type": "code",
   "execution_count": 947,
   "id": "fae602e3",
   "metadata": {},
   "outputs": [
    {
     "name": "stdout",
     "output_type": "stream",
     "text": [
      "[[0.         5.38461969 2.72726829]\n",
      " [0.         0.         0.        ]\n",
      " [0.         0.         0.        ]]\n",
      "[[0.         5.38461969 2.72726829]\n",
      " [0.         0.         5.83648344]\n",
      " [0.         0.         0.        ]]\n",
      "[[0.         5.38461969 2.72726829]\n",
      " [0.         0.         5.83648344]\n",
      " [0.         0.         0.        ]]\n"
     ]
    }
   ],
   "source": [
    "N = 3\n",
    "N_atoms = 3\n",
    "size = 10\n",
    "position = np.random.rand(N_atoms, 3) * size\n",
    "r_ij = np.zeros((N,N))\n",
    "for i in range(N):\n",
    "    for j in range(i + 1, 3):\n",
    "        r_ij[i, j] = np.linalg.norm(positions[i] - positions[j])\n",
    "    print(r_ij)"
   ]
  },
  {
   "cell_type": "code",
   "execution_count": 948,
   "id": "9014ac01",
   "metadata": {},
   "outputs": [
    {
     "name": "stdout",
     "output_type": "stream",
     "text": [
      "8.396228941481144\n"
     ]
    }
   ],
   "source": [
    "r = np.linalg.norm(r_ij)\n",
    "print(r)"
   ]
  },
  {
   "cell_type": "code",
   "execution_count": 949,
   "id": "86f4acc3",
   "metadata": {},
   "outputs": [
    {
     "name": "stdout",
     "output_type": "stream",
     "text": [
      "[[ 0.         -0.17119208 -0.0033494 ]\n",
      " [ 0.          0.         -0.24972797]\n",
      " [ 0.          0.          0.        ]]\n"
     ]
    }
   ],
   "source": [
    "f = 24 * (2 * (r_ij / r)**12 - (r_ij / r)**6) / r\n",
    "print(f)"
   ]
  },
  {
   "cell_type": "code",
   "execution_count": 950,
   "id": "971e45f0",
   "metadata": {},
   "outputs": [],
   "source": [
    "# initialize velocities\n",
    "def initialize_velocities(m, kB, T):\n",
    "    \"\"\"\n",
    "    kB = boltzmann_temp\n",
    "    \"\"\"\n",
    "    velocities = np.random.normal(loc=0, scale=1, size=(N,3)) * np.sqrt(kB*T/m)\n",
    "    return velocities"
   ]
  },
  {
   "cell_type": "code",
   "execution_count": 951,
   "id": "9f70fc3e",
   "metadata": {},
   "outputs": [
    {
     "name": "stdout",
     "output_type": "stream",
     "text": [
      "[[-13.99698066 -12.45190284  -9.93407212]\n",
      " [ -6.6454838    5.05124975   1.26191996]\n",
      " [ -0.32136895   1.7326966    7.41457957]]\n"
     ]
    }
   ],
   "source": [
    "kB = 0.08314\n",
    "T = 300\n",
    "m = 16\n",
    "velocities = np.random.normal(loc=0, scale=np.sqrt(T), size=(N, 3))\n",
    "print(velocities)"
   ]
  },
  {
   "cell_type": "code",
   "execution_count": 952,
   "id": "15ac40f5",
   "metadata": {},
   "outputs": [],
   "source": [
    "# Propagate Positions\n",
    "def update_positions(positions, velocities, dt, f, size):\n",
    "    \"\"\"\n",
    "    positions = particle_positions\n",
    "    velocities = particle_velocities\n",
    "    dt = time_step\n",
    "    f = force\n",
    "    size = size_of_box\n",
    "    \"\"\"\n",
    "    positions += velocities * dt + 0.5 * f * dt**2\n",
    "    \n",
    "     # wrap into central box (box is from 0 to size in each dimension)\n",
    "    for i in range(N):\n",
    "        for j in range(N):\n",
    "            if positions[i,j] < 0:\n",
    "                positions[i,j] += size\n",
    "            elif positions[i,j] > size:\n",
    "                positions[i,j] -= size\n",
    "    return positions"
   ]
  },
  {
   "cell_type": "code",
   "execution_count": 953,
   "id": "1936cda2",
   "metadata": {},
   "outputs": [],
   "source": [
    "dt = 0.001\n",
    "size = 10\n",
    "f = 24 * (2 * (r_ij / r)**12 - (r_ij / r)**6) / r\n",
    "positions += velocities * dt + 0.5 * f * dt**2"
   ]
  },
  {
   "cell_type": "code",
   "execution_count": 954,
   "id": "d721f021",
   "metadata": {},
   "outputs": [
    {
     "name": "stdout",
     "output_type": "stream",
     "text": [
      "[[4.57204264 7.22922438 3.98031914]\n",
      " [9.03379845 6.90530145 6.99748234]\n",
      " [3.27688265 7.56951912 6.36802513]]\n"
     ]
    }
   ],
   "source": [
    "print(positions)"
   ]
  },
  {
   "cell_type": "code",
   "execution_count": 955,
   "id": "142d90fc",
   "metadata": {},
   "outputs": [],
   "source": [
    "# Propagate Velocities\n",
    "def update_velocities(velocities, f, dt):\n",
    "    \"\"\"\n",
    "    velocities = particle_velocities\n",
    "    f = forces\n",
    "    dt = time_step\n",
    "    \n",
    "    \"\"\"\n",
    "    velocities += f * dt\n",
    "    return velocities"
   ]
  },
  {
   "cell_type": "code",
   "execution_count": 956,
   "id": "3eb786b1",
   "metadata": {},
   "outputs": [
    {
     "name": "stdout",
     "output_type": "stream",
     "text": [
      "[[-13.99698066 -12.45190284  -9.93407212]\n",
      " [ -6.6454838    5.05124975   1.26191996]\n",
      " [ -0.32136895   1.7326966    7.41457957]]\n"
     ]
    }
   ],
   "source": [
    "dt = 3\n",
    "f = np.zeros_like(positions)\n",
    "velocities += f * dt\n",
    "print(velocities)"
   ]
  },
  {
   "cell_type": "code",
   "execution_count": 957,
   "id": "9e698f41",
   "metadata": {},
   "outputs": [],
   "source": [
    "# Compute Energy\n",
    "def kinetic_energy(N_atoms, kB, T):\n",
    "    \"\"\"kB - Boltzmann constant\"\"\"\n",
    "    \n",
    "    Energy = 1.5*N_atoms*kB*T\n",
    "    return Energy"
   ]
  },
  {
   "cell_type": "code",
   "execution_count": 958,
   "id": "e5d50c1c",
   "metadata": {},
   "outputs": [
    {
     "name": "stdout",
     "output_type": "stream",
     "text": [
      "112.239\n"
     ]
    }
   ],
   "source": [
    "N_atoms = 3\n",
    "kB = 0.08314\n",
    "T = 300\n",
    "Energy = 1.5*N_atoms*kB*T\n",
    "print(Energy)"
   ]
  },
  {
   "cell_type": "code",
   "execution_count": 959,
   "id": "297758cd",
   "metadata": {},
   "outputs": [],
   "source": [
    "# Trajectory frame        \n",
    "def write_trajectory_frame(positions, file_pointer, num_steps):\n",
    "    \"\"\"\n",
    "    positions = particle_positions\n",
    "    file_pointer = trajectory_file_pointer\n",
    "    num_steps = step_number\n",
    "    \"\"\"\n",
    "    \n",
    "    N_atoms = positions.shape[0]\n",
    "    \n",
    "    file_pointer.write(\"%10d\\n\" % (N_atoms))\n",
    "    file_pointer.write(\"%10d\\n\" % (num_steps))\n",
    "    for i in range(N):\n",
    "        file_pointer.write(\"C %10.5f %10.5f %10.5f\\n\" % ( positions[i,0],  positions[i,1],  positions[i,2]))"
   ]
  },
  {
   "cell_type": "code",
   "execution_count": 1375,
   "id": "0df89964",
   "metadata": {},
   "outputs": [],
   "source": [
    "#test sim\n",
    "N_atoms = 3\n",
    "r = 11.109807087416717\n",
    "T = 300\n",
    "m = 16\n",
    "size = 10\n",
    "num_steps = 100\n",
    "dump = 10\n",
    "dt = 0.001\n",
    "sim = run_md(N_atoms, r, T, m, size, num_steps, dump, dt)"
   ]
  },
  {
   "cell_type": "code",
   "execution_count": 1376,
   "id": "6185b0cf",
   "metadata": {},
   "outputs": [
    {
     "name": "stdout",
     "output_type": "stream",
     "text": [
      "<_io.TextIOWrapper name='traj_MD.xyz' mode='w' encoding='UTF-8'>\n"
     ]
    }
   ],
   "source": [
    "print(sim)"
   ]
  },
  {
   "cell_type": "code",
   "execution_count": 1377,
   "id": "f43e0571",
   "metadata": {},
   "outputs": [
    {
     "name": "stdout",
     "output_type": "stream",
     "text": [
      "<_io.TextIOWrapper name='traj_MD.xyz' mode='w' encoding='UTF-8'>\n"
     ]
    }
   ],
   "source": [
    "print(traj_file)"
   ]
  },
  {
   "cell_type": "code",
   "execution_count": 963,
   "id": "488cf578",
   "metadata": {},
   "outputs": [
    {
     "data": {
      "text/plain": [
       "[<matplotlib.lines.Line2D at 0x15e8802b0>,\n",
       " <matplotlib.lines.Line2D at 0x15e880310>,\n",
       " <matplotlib.lines.Line2D at 0x15e880340>]"
      ]
     },
     "execution_count": 963,
     "metadata": {},
     "output_type": "execute_result"
    },
    {
     "data": {
      "image/png": "[encoded data removed]",
      "text/plain": [
       "<Figure size 640x480 with 1 Axes>"
      ]
     },
     "metadata": {},
     "output_type": "display_data"
    }
   ],
   "source": [
    "plt.plot(velocities)"
   ]
  },
  {
   "cell_type": "code",
   "execution_count": 964,
   "id": "f1b58079",
   "metadata": {},
   "outputs": [
    {
     "data": {
      "text/plain": [
       "[<matplotlib.lines.Line2D at 0x15e8c49d0>,\n",
       " <matplotlib.lines.Line2D at 0x15e8c4a30>,\n",
       " <matplotlib.lines.Line2D at 0x15e8c4a60>]"
      ]
     },
     "execution_count": 964,
     "metadata": {},
     "output_type": "execute_result"
    },
    {
     "data": {
      "image/png": "[encoded data removed]",
      "text/plain": [
       "<Figure size 640x480 with 1 Axes>"
      ]
     },
     "metadata": {},
     "output_type": "display_data"
    }
   ],
   "source": [
    "plt.plot(positions)"
   ]
  },
  {
   "cell_type": "code",
   "execution_count": 1378,
   "id": "070b56b6",
   "metadata": {},
   "outputs": [],
   "source": [
    "import MDAnalysis as mda\n"
   ]
  },
  {
   "cell_type": "code",
   "execution_count": 1513,
   "id": "7287cde8",
   "metadata": {},
   "outputs": [
    {
     "data": {
      "image/png": "[encoded data removed]",
      "text/plain": [
       "<Figure size 640x480 with 1 Axes>"
      ]
     },
     "metadata": {},
     "output_type": "display_data"
    }
   ],
   "source": [
    "# Read positions from a file or generate them\n",
    "traj_file = open(\"traj_MD.xyz\", 'w')\n",
    "\n",
    "def compute_rdf(ositions, box_length, dr, num_particles, num_bins):\n",
    "    num_bins = int(size / (2 * dr))\n",
    "    rdf = np.zeros(num_bins)\n",
    "    \n",
    "    volume = size ** 3\n",
    "    rho = N_atoms / volume\n",
    "    for i in range(N_atoms - 1):\n",
    "        for j in range(i + 1, N_atoms):\n",
    "            rij = positions[i] - positions[j]\n",
    "            r = np.linalg.norm(rij)\n",
    "    \n",
    "    volume = 4 / 3 * np.pi * (np.power((np.arange(num_bins) + 1) * dr, 3) - np.power(np.arange(num_bins) * dr, 3))\n",
    "    normalization = 2 * np.pi * rho * volume * N_atoms / (N_atoms - 1)\n",
    "\n",
    "    rdf /= normalization\n",
    "\n",
    "    return rdf\n",
    "# Simulation parameters\n",
    "N_atoms = 10\n",
    "size = 10.0\n",
    "num_bins = 10\n",
    "dr = size / (2 * num_bins)\n",
    "\n",
    "# Compute RDF\n",
    "rdf = compute_rdf(positions, size, dr, N_atoms, num_bins)\n",
    "\n",
    "# Plot RDF\n",
    "r = np.arange(num_bins) * dr\n",
    "plt.plot(r, rdf)\n",
    "plt.xlabel('r')\n",
    "plt.ylabel('RDF')\n",
    "plt.title('Radial Distribution Function')\n",
    "plt.show()"
   ]
  },
  {
   "cell_type": "code",
   "execution_count": null,
   "id": "4466fb48",
   "metadata": {},
   "outputs": [],
   "source": []
  },
  {
   "cell_type": "code",
   "execution_count": null,
   "id": "f4d33eff",
   "metadata": {},
   "outputs": [],
   "source": []
  },
  {
   "cell_type": "code",
   "execution_count": null,
   "id": "5e2cabb6",
   "metadata": {},
   "outputs": [],
   "source": []
  },
  {
   "cell_type": "code",
   "execution_count": null,
   "id": "2099d7cf",
   "metadata": {
    "scrolled": true
   },
   "outputs": [],
   "source": []
  },
  {
   "cell_type": "code",
   "execution_count": null,
   "id": "fa4e3cac",
   "metadata": {},
   "outputs": [],
   "source": []
  },
  {
   "cell_type": "code",
   "execution_count": null,
   "id": "141896f9",
   "metadata": {},
   "outputs": [],
   "source": []
  },
  {
   "cell_type": "code",
   "execution_count": null,
   "id": "e02a3fbc",
   "metadata": {},
   "outputs": [],
   "source": []
  },
  {
   "cell_type": "code",
   "execution_count": null,
   "id": "4eb151d0",
   "metadata": {},
   "outputs": [],
   "source": []
  },
  {
   "cell_type": "code",
   "execution_count": 1090,
   "id": "464960c8",
   "metadata": {},
   "outputs": [],
   "source": []
  },
  {
   "cell_type": "code",
   "execution_count": 1091,
   "id": "90695687",
   "metadata": {},
   "outputs": [],
   "source": []
  },
  {
   "cell_type": "code",
   "execution_count": null,
   "id": "6e34741c",
   "metadata": {},
   "outputs": [],
   "source": []
  }
 ],
 "metadata": {
  "kernelspec": {
   "display_name": "Python 3 (ipykernel)",
   "language": "python",
   "name": "python3"
  },
  "language_info": {
   "codemirror_mode": {
    "name": "ipython",
    "version": 3
   },
   "file_extension": ".py",
   "mimetype": "text/x-python",
   "name": "python",
   "nbconvert_exporter": "python",
   "pygments_lexer": "ipython3",
   "version": "3.9.12"
  }
 },
 "nbformat": 4,
 "nbformat_minor": 5
}

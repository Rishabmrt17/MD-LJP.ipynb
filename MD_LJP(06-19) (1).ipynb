{
 "cells": [
  {
   "cell_type": "code",
   "execution_count": 1865,
   "id": "27637ba4",
   "metadata": {},
   "outputs": [],
   "source": [
    "#import modules\n",
    "import numpy as np\n",
    "from io import StringIO\n",
    "import matplotlib.pyplot as plt\n",
    "import math"
   ]
  },
  {
   "cell_type": "code",
   "execution_count": 1866,
   "id": "d5c99043",
   "metadata": {},
   "outputs": [],
   "source": [
    "def run_md(N_atoms, r, T, m, size, num_steps, dump, dt):\n",
    "    \"\"\"\n",
    "    MD program using velocity verlet algorithm\n",
    "    N_atoms = number_of_atoms\n",
    "    f = force_of_particles\n",
    "    r = distance_between_particles\n",
    "    T = Boltzmann_temperature\n",
    "    m = mass_of_particle\n",
    "    size = size_of_the_box\n",
    "    num_steps = number_of_steps\n",
    "    dump = frequency_in_steps\n",
    "    dt = time_step\n",
    "    \"\"\"\n",
    "    \n",
    "    # initialize positions\n",
    "    positions = initialize_positions(N_atoms, size)\n",
    "    \n",
    "    # initialize velocities\n",
    "    velocities = initialize_velocities(m, kB, T)\n",
    "    \n",
    "    # Main MD loop\n",
    "     # open trajectory file\n",
    "    traj_file = open(\"traj_MD.xyz\", 'w')\n",
    "    for steps in range(num_steps):\n",
    "    \n",
    "        # Propagate Positions\n",
    "        update_positions(positions, velocities, f, dt, size)\n",
    "        \n",
    "        # Propagate Velocities\n",
    "        update_velocities(velocities, f, dt)\n",
    "        \n",
    "        if (step%dump==0):\n",
    "            write_trajectory_frame(positions, traj_file, step)\n",
    "    \n",
    "        # close trajectory file\n",
    "        traj_file.close()\n",
    "        return traj_file"
   ]
  },
  {
   "cell_type": "code",
   "execution_count": 1867,
   "id": "e878d31c",
   "metadata": {},
   "outputs": [],
   "source": [
    "#################Sub-Routines#################\n",
    "\n",
    "# initialize positions\n",
    "def initialize_positions(N_atoms, size):\n",
    "    \n",
    "    return np.random.rand(N_atoms, 2) * size"
   ]
  },
  {
   "cell_type": "code",
   "execution_count": 1868,
   "id": "5ea94e64",
   "metadata": {},
   "outputs": [
    {
     "name": "stdout",
     "output_type": "stream",
     "text": [
      "[[0.89689104 0.58642154]\n",
      " [0.65732909 1.34503691]]\n"
     ]
    }
   ],
   "source": [
    "positions = initialize_positions(2, 2)\n",
    "print(positions)"
   ]
  },
  {
   "cell_type": "code",
   "execution_count": 1869,
   "id": "348469af",
   "metadata": {},
   "outputs": [],
   "source": [
    "def compute_forces(positions, f, size):\n",
    "    \"\"\"\n",
    "    Compute forces\n",
    "    epsilon = welldepth of the particles\n",
    "    sigma = distance at which potential is zero\n",
    "    r = distance between two particles\n",
    "    \"\"\"\n",
    "    N = 2 \n",
    "    size = 2\n",
    "    r6 = (sigma / r) ** 6\n",
    "    r12 = r6 ** 2\n",
    "    f = -24 * epsilon * (2 * r12 - r6) / r\n",
    "    return f"
   ]
  },
  {
   "cell_type": "code",
   "execution_count": null,
   "id": "ba77fabe",
   "metadata": {},
   "outputs": [],
   "source": []
  },
  {
   "cell_type": "code",
   "execution_count": null,
   "id": "fae602e3",
   "metadata": {},
   "outputs": [],
   "source": []
  },
  {
   "cell_type": "code",
   "execution_count": null,
   "id": "9014ac01",
   "metadata": {},
   "outputs": [],
   "source": []
  },
  {
   "cell_type": "code",
   "execution_count": 1870,
   "id": "86f4acc3",
   "metadata": {},
   "outputs": [
    {
     "name": "stdout",
     "output_type": "stream",
     "text": [
      "0.181640625\n"
     ]
    }
   ],
   "source": [
    "epsilon = 1\n",
    "sigma = 1\n",
    "r = 2\n",
    "r6 = (sigma / r) ** 6\n",
    "r12 = r6 ** 2\n",
    "f = -24 * epsilon * (2 * r12 - r6) / r\n",
    "print(f)"
   ]
  },
  {
   "cell_type": "code",
   "execution_count": 1871,
   "id": "971e45f0",
   "metadata": {},
   "outputs": [],
   "source": [
    "# initialize velocities\n",
    "def initialize_velocities(m, kB, T):\n",
    "    \"\"\"\n",
    "    kB = boltzmann_temp\n",
    "    \"\"\"\n",
    "    velocities = np.random.normal(loc=0, scale=1, size=(N,2)) * np.sqrt(kB*T/m)\n",
    "    return velocities"
   ]
  },
  {
   "cell_type": "code",
   "execution_count": 1872,
   "id": "9f70fc3e",
   "metadata": {},
   "outputs": [
    {
     "name": "stdout",
     "output_type": "stream",
     "text": [
      "[[ 13.34854023  11.55375063]\n",
      " [-12.10957395  -0.15271572]]\n"
     ]
    }
   ],
   "source": [
    "kB = 0.08314\n",
    "T = 300\n",
    "m = 16\n",
    "velocities = np.random.normal(loc=0, scale=np.sqrt(T), size=(N, 2))\n",
    "print(velocities)"
   ]
  },
  {
   "cell_type": "code",
   "execution_count": 1873,
   "id": "15ac40f5",
   "metadata": {},
   "outputs": [],
   "source": [
    "# Propagate Positions\n",
    "def update_positions(positions, velocities, dt, f, size):\n",
    "    \"\"\"\n",
    "    positions = particle_positions\n",
    "    velocities = particle_velocities\n",
    "    dt = time_step\n",
    "    f = force\n",
    "    size = size_of_box\n",
    "    \"\"\"\n",
    "    positions += velocities * dt + 0.5 * f * dt**2\n",
    "    \n",
    "     # wrap into central box (box is from 0 to size in each dimension)\n",
    "    for i in range(N):\n",
    "        for j in range(N):\n",
    "            if positions[i,j] < 0:\n",
    "                positions[i,j] += size\n",
    "            elif positions[i,j] > size:\n",
    "                positions[i,j] -= size\n",
    "    return positions"
   ]
  },
  {
   "cell_type": "code",
   "execution_count": 1874,
   "id": "1936cda2",
   "metadata": {},
   "outputs": [],
   "source": [
    "dt = 0.001\n",
    "size = 2\n",
    "f = -24 * epsilon * (2 * r12 - r6) / r\n",
    "positions += velocities * dt + 0.5 * f * dt**2"
   ]
  },
  {
   "cell_type": "code",
   "execution_count": 1875,
   "id": "d721f021",
   "metadata": {},
   "outputs": [
    {
     "name": "stdout",
     "output_type": "stream",
     "text": [
      "[[0.91023968 0.59797538]\n",
      " [0.64521961 1.34488429]]\n"
     ]
    }
   ],
   "source": [
    "print(positions)"
   ]
  },
  {
   "cell_type": "code",
   "execution_count": 1876,
   "id": "142d90fc",
   "metadata": {},
   "outputs": [],
   "source": [
    "# Propagate Velocities\n",
    "def update_velocities(velocities, f, dt):\n",
    "    \"\"\"\n",
    "    velocities = particle_velocities\n",
    "    f = forces\n",
    "    dt = time_step\n",
    "    \n",
    "    \"\"\"\n",
    "    velocities += f * dt\n",
    "    return velocities"
   ]
  },
  {
   "cell_type": "code",
   "execution_count": 1877,
   "id": "3eb786b1",
   "metadata": {},
   "outputs": [
    {
     "name": "stdout",
     "output_type": "stream",
     "text": [
      "[[ 13.34854025  11.55375065]\n",
      " [-12.10957393  -0.1527157 ]]\n"
     ]
    }
   ],
   "source": [
    "dt = 0.01\n",
    "f = 24 * epsilon * (2 * r7 - r7)\n",
    "velocities += f * dt\n",
    "print(velocities)"
   ]
  },
  {
   "cell_type": "code",
   "execution_count": 1878,
   "id": "9e698f41",
   "metadata": {},
   "outputs": [],
   "source": [
    "# Compute Energy\n",
    "def kinetic_energy(N_atoms, kB, T):\n",
    "    \"\"\"kB - Boltzmann constant\"\"\"\n",
    "    \n",
    "    Energy = 1.5*N_atoms*kB*T\n",
    "    return Energy"
   ]
  },
  {
   "cell_type": "code",
   "execution_count": 1879,
   "id": "e5d50c1c",
   "metadata": {},
   "outputs": [
    {
     "name": "stdout",
     "output_type": "stream",
     "text": [
      "74.82600000000001\n"
     ]
    }
   ],
   "source": [
    "N_atoms = 2\n",
    "kB = 0.08314\n",
    "T = 300\n",
    "Energy = 1.5*N_atoms*kB*T\n",
    "print(Energy)"
   ]
  },
  {
   "cell_type": "code",
   "execution_count": 1880,
   "id": "297758cd",
   "metadata": {},
   "outputs": [],
   "source": [
    "# Trajectory frame        \n",
    "def write_trajectory_frame(positions, file_pointer, num_steps):\n",
    "    \"\"\"\n",
    "    positions = particle_positions\n",
    "    file_pointer = trajectory_file_pointer\n",
    "    num_steps = step_number\n",
    "    \"\"\"\n",
    "    \n",
    "    N_atoms = positions.shape[0]\n",
    "    \n",
    "    file_pointer.write(\"%10d\\n\" % (N_atoms))\n",
    "    file_pointer.write(\"%10d\\n\" % (num_steps))\n",
    "    for i in range(N):\n",
    "        file_pointer.write(\"C %10.5f %10.5f\\n\" % ( positions[i,0],  positions[i,1]))"
   ]
  },
  {
   "cell_type": "code",
   "execution_count": 1881,
   "id": "0df89964",
   "metadata": {},
   "outputs": [],
   "source": [
    "#test sim\n",
    "N_atoms = 2\n",
    "r = 11.109807087416717\n",
    "T = 300\n",
    "m = 16\n",
    "size = 2\n",
    "num_steps = 100\n",
    "dump = 10\n",
    "dt = 0.01\n",
    "sim = run_md(N_atoms, r, T, m, size, num_steps, dump, dt)"
   ]
  },
  {
   "cell_type": "code",
   "execution_count": 1882,
   "id": "6185b0cf",
   "metadata": {},
   "outputs": [
    {
     "name": "stdout",
     "output_type": "stream",
     "text": [
      "<_io.TextIOWrapper name='traj_MD.xyz' mode='w' encoding='UTF-8'>\n"
     ]
    }
   ],
   "source": [
    "print(sim)"
   ]
  },
  {
   "cell_type": "code",
   "execution_count": 1883,
   "id": "f43e0571",
   "metadata": {},
   "outputs": [
    {
     "name": "stdout",
     "output_type": "stream",
     "text": [
      "[]\n"
     ]
    }
   ],
   "source": [
    "print(traj_file)"
   ]
  },
  {
   "cell_type": "code",
   "execution_count": 1884,
   "id": "488cf578",
   "metadata": {},
   "outputs": [
    {
     "data": {
      "text/plain": [
       "[<matplotlib.lines.Line2D at 0x2808b3580>,\n",
       " <matplotlib.lines.Line2D at 0x2808b35e0>]"
      ]
     },
     "execution_count": 1884,
     "metadata": {},
     "output_type": "execute_result"
    },
    {
     "data": {
      "image/png": "[encoded data removed]",
      "text/plain": [
       "<Figure size 640x480 with 1 Axes>"
      ]
     },
     "metadata": {},
     "output_type": "display_data"
    }
   ],
   "source": [
    "plt.plot(velocities)"
   ]
  },
  {
   "cell_type": "code",
   "execution_count": 1885,
   "id": "f1b58079",
   "metadata": {},
   "outputs": [
    {
     "data": {
      "text/plain": [
       "[<matplotlib.lines.Line2D at 0x2809529d0>,\n",
       " <matplotlib.lines.Line2D at 0x280952a30>]"
      ]
     },
     "execution_count": 1885,
     "metadata": {},
     "output_type": "execute_result"
    },
    {
     "data": {
      "image/png": "[encoded data removed]",
      "text/plain": [
       "<Figure size 640x480 with 1 Axes>"
      ]
     },
     "metadata": {},
     "output_type": "display_data"
    }
   ],
   "source": [
    "plt.plot(positions)"
   ]
  },
  {
   "cell_type": "code",
   "execution_count": 2083,
   "id": "070b56b6",
   "metadata": {},
   "outputs": [],
   "source": [
    "def compute_radial_distribution(positions, size, N_atoms, num_bins):\n",
    "    \"\"\"Compute the radial distribution function (g(r)) for a given set of coordinates.\"\"\"\n",
    "    rdf = np.zeros(num_bins)\n",
    "    bin_width = size / (2 * num_bins)\n",
    "    positions = np.random.rand(N_atoms, size)\n",
    "    for i in range(N_atoms - 1):\n",
    "        for j in range(i + 1, N_atoms):\n",
    "            dx = positions[i, 0] - positions[j, 0]\n",
    "            dy = positions[i, 1] - positions[j, 1]\n",
    "\n",
    "            # Apply periodic boundary conditions\n",
    "            dx -= size * np.round(dx / size)\n",
    "            dy -= size * np.round(dy / size)\n",
    "\n",
    "            r = np.sqrt(dx ** 2 + dy ** 2)\n",
    "            \n",
    "            # Assign particles to bins and increment the respective bin count\n",
    "            bin_index = int(r / bin_width)\n",
    "            if bin_index < num_bins:\n",
    "                rdf[bin_index] += 2  # Increase count for pair (i, j)\n",
    "    \n",
    "    # Normalize the radial distribution function\n",
    "    particle_density = N_atoms / (size ** 3)\n",
    "    shell_volume = (4 / 3) * np.pi * (bin_width ** 3) * np.arange(1, num_bins + 1) ** 3\n",
    "    normalization = 4 * np.pi * particle_density * shell_volume\n",
    "    rdf /= normalization\n",
    "    \n",
    "    return rdf"
   ]
  },
  {
   "cell_type": "code",
   "execution_count": 2098,
   "id": "7287cde8",
   "metadata": {},
   "outputs": [
    {
     "data": {
      "image/png": "[encoded data removed]",
      "text/plain": [
       "<Figure size 640x480 with 1 Axes>"
      ]
     },
     "metadata": {},
     "output_type": "display_data"
    }
   ],
   "source": [
    "# Simulation parameters\n",
    "N_atoms = 10\n",
    "densities = [0.001, 0.01, 0.1]  # Varying densities\n",
    "num_bins = 100\n",
    "size = 10\n",
    "\n",
    "# Perform simulations for different densities\n",
    "for density in densities:\n",
    "    rdf = compute_radial_distribution(positions, size, N_atoms, num_bins)\n",
    "    \n",
    "    r = np.linspace(0, size / 2, num_bins)\n",
    "    \n",
    "    # Plot g(r)\n",
    "    plt.plot(r, rdf, label=f'Density: {density}')\n",
    "    \n",
    "plt.xlabel('Radius')\n",
    "plt.ylabel('g(r)')\n",
    "plt.legend()\n",
    "plt.show()"
   ]
  },
  {
   "cell_type": "code",
   "execution_count": null,
   "id": "4466fb48",
   "metadata": {},
   "outputs": [],
   "source": []
  },
  {
   "cell_type": "code",
   "execution_count": null,
   "id": "f4d33eff",
   "metadata": {},
   "outputs": [],
   "source": []
  },
  {
   "cell_type": "code",
   "execution_count": null,
   "id": "5e2cabb6",
   "metadata": {},
   "outputs": [],
   "source": []
  },
  {
   "cell_type": "code",
   "execution_count": null,
   "id": "2099d7cf",
   "metadata": {
    "scrolled": true
   },
   "outputs": [],
   "source": [
    "                                         "
   ]
  },
  {
   "cell_type": "code",
   "execution_count": null,
   "id": "fa4e3cac",
   "metadata": {},
   "outputs": [],
   "source": []
  },
  {
   "cell_type": "code",
   "execution_count": null,
   "id": "141896f9",
   "metadata": {},
   "outputs": [],
   "source": []
  },
  {
   "cell_type": "code",
   "execution_count": null,
   "id": "e02a3fbc",
   "metadata": {},
   "outputs": [],
   "source": []
  },
  {
   "cell_type": "code",
   "execution_count": null,
   "id": "4eb151d0",
   "metadata": {},
   "outputs": [],
   "source": []
  },
  {
   "cell_type": "code",
   "execution_count": 1090,
   "id": "464960c8",
   "metadata": {},
   "outputs": [],
   "source": []
  },
  {
   "cell_type": "code",
   "execution_count": 1091,
   "id": "90695687",
   "metadata": {},
   "outputs": [],
   "source": []
  },
  {
   "cell_type": "code",
   "execution_count": null,
   "id": "6e34741c",
   "metadata": {},
   "outputs": [],
   "source": []
  }
 ],
 "metadata": {
  "kernelspec": {
   "display_name": "Python 3 (ipykernel)",
   "language": "python",
   "name": "python3"
  },
  "language_info": {
   "codemirror_mode": {
    "name": "ipython",
    "version": 3
   },
   "file_extension": ".py",
   "mimetype": "text/x-python",
   "name": "python",
   "nbconvert_exporter": "python",
   "pygments_lexer": "ipython3",
   "version": "3.9.12"
  }
 },
 "nbformat": 4,
 "nbformat_minor": 5
}
